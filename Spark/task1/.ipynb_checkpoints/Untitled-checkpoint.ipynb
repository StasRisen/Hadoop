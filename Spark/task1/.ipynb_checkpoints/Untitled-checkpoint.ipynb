{
 "cells": [
  {
   "cell_type": "code",
   "execution_count": 1,
   "id": "499c75de",
   "metadata": {},
   "outputs": [],
   "source": [
    "def parseline(line):\n",
    "    try:\n",
    "        line = re.sub(\"^\\W+|\\W+$\", \"\", line)\n",
    "        art_id, art = line.strip().lower().split(\"\\t\")\n",
    "        words = art.split(\" \")\n",
    "        return words\n",
    "    except ValueError:\n",
    "        return []"
   ]
  },
  {
   "cell_type": "code",
   "execution_count": 3,
   "id": "f0ebe0b5",
   "metadata": {},
   "outputs": [],
   "source": [
    "def bigrams(words):\n",
    "    bigrams = []\n",
    "    for i, word in enumerate(words[:-1]):\n",
    "        if str(word) == \"narodnaya\":\n",
    "            pair = u'_'.join((word, words[i+1])).encode('utf-8')\n",
    "            cnt = 1\n",
    "            bigrams.append((pair, cnt))\n",
    "    return bigrams\n"
   ]
  },
  {
   "cell_type": "code",
   "execution_count": 27,
   "id": "2d02ab2d",
   "metadata": {},
   "outputs": [],
   "source": [
    "from pyspark import SparkContext, SparkConf\n",
    "import re\n",
    "\n",
    "#config = SparkConf().setAppName(\"task_&\").setMaster(\"yarn\").set(\"spark.ui.port\", \"5555\")\n",
    "#spark_context = SparkContext(conf=config)\n",
    "\n",
    "rdd = sc.textFile(\"/data/wiki/en_articles_part\")\n",
    "#rdd2 = rdd.map(lambda x: re.sub(\"^\\W+|\\W+$\", \"\", x.strip().lower()))\n",
    "objects = rdd.map(parseline).flatMap(bigrams)\n",
    "objects = objects.reduceByKey(lambda a, b: a + b)\n"
   ]
  },
  {
   "cell_type": "code",
   "execution_count": 31,
   "id": "ae66c5ae",
   "metadata": {},
   "outputs": [
    {
     "name": "stdout",
     "output_type": "stream",
     "text": [
      "[] [(b'narodnaya_volya', 5)]\n"
     ]
    }
   ],
   "source": [
    "print(f'{objects.take(0)} {objects.take(1)}')"
   ]
  },
  {
   "cell_type": "code",
   "execution_count": 19,
   "id": "485ed6c6",
   "metadata": {},
   "outputs": [],
   "source": [
    "rdd3 = rdd2.flatMap(lambda x: x.split(\"\\t\")[1].split(\" \"))\n",
    "rdd4 = rdd3.map(lambda x: )\n"
   ]
  },
  {
   "cell_type": "code",
   "execution_count": 21,
   "id": "0b89f1cf",
   "metadata": {},
   "outputs": [
    {
     "ename": "NameError",
     "evalue": "name 'println' is not defined",
     "output_type": "error",
     "traceback": [
      "\u001b[0;31m---------------------------------------------------------------------------\u001b[0m",
      "\u001b[0;31mNameError\u001b[0m                                 Traceback (most recent call last)",
      "\u001b[0;32m<ipython-input-21-b274286d3479>\u001b[0m in \u001b[0;36m<module>\u001b[0;34m\u001b[0m\n\u001b[0;32m----> 1\u001b[0;31m \u001b[0mprint\u001b[0m \u001b[0;34m(\u001b[0m\u001b[0mrdd3\u001b[0m\u001b[0;34m.\u001b[0m\u001b[0mforeach\u001b[0m\u001b[0;34m(\u001b[0m\u001b[0mprintln\u001b[0m\u001b[0;34m)\u001b[0m\u001b[0;34m)\u001b[0m\u001b[0;34m\u001b[0m\u001b[0;34m\u001b[0m\u001b[0m\n\u001b[0m\u001b[1;32m      2\u001b[0m \u001b[0;31m#print (rdd2.take(1))\u001b[0m\u001b[0;34m\u001b[0m\u001b[0;34m\u001b[0m\u001b[0;34m\u001b[0m\u001b[0m\n",
      "\u001b[0;31mNameError\u001b[0m: name 'println' is not defined"
     ]
    }
   ],
   "source": [
    "\n",
    "#print (rdd2.take(1))"
   ]
  }
 ],
 "metadata": {
  "kernelspec": {
   "display_name": "Python 3",
   "language": "python",
   "name": "python3"
  },
  "language_info": {
   "codemirror_mode": {
    "name": "ipython",
    "version": 3
   },
   "file_extension": ".py",
   "mimetype": "text/x-python",
   "name": "python",
   "nbconvert_exporter": "python",
   "pygments_lexer": "ipython3",
   "version": "3.6.9"
  }
 },
 "nbformat": 4,
 "nbformat_minor": 5
}
